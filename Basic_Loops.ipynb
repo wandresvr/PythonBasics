{
 "cells": [
  {
   "cell_type": "markdown",
   "metadata": {},
   "source": [
    "# <center>Ejercicios prácticos 1</center>"
   ]
  },
  {
   "cell_type": "markdown",
   "metadata": {},
   "source": [
    "## Ejercicio 1\n",
    "Diseñe una función que recibe como parámetro de entrada un string que solo contiene letras, tanto mayúsculas como minúsculas (sin espacios) mezcladas indistintamente. Su función debe invertir el orden de los caracteres y además los que están en minúscula debe convertirlos en mayúscula y viceversa. Acompañe la función de una interfaz de usuario por consola."
   ]
  },
  {
   "cell_type": "code",
   "execution_count": 2,
   "metadata": {},
   "outputs": [],
   "source": [
    "def cambio():\n",
    "    while(True):\n",
    "        print(\"Ingrese cadena de caracteres\")\n",
    "        text =str(input())\n",
    "        digit = [k for k in text if k.isdigit()]\n",
    "        if digit:\n",
    "            print(\"Error, la cadena ingresada tiene numeros\")\n",
    "        else:\n",
    "            break\n",
    "    text = text.swapcase()\n",
    "    return text\n",
    "        "
   ]
  },
  {
   "cell_type": "code",
   "execution_count": 3,
   "metadata": {},
   "outputs": [
    {
     "name": "stdout",
     "output_type": "stream",
     "text": [
      "Ingrese cadena de caracteres\n",
      "HolaMundo\n"
     ]
    },
    {
     "data": {
      "text/plain": [
       "'hOLAmUNDO'"
      ]
     },
     "execution_count": 3,
     "metadata": {},
     "output_type": "execute_result"
    }
   ],
   "source": [
    "cambio()"
   ]
  },
  {
   "cell_type": "markdown",
   "metadata": {},
   "source": [
    "## Ejercicio 2\n",
    "\n",
    "Diseñe una pequeña función que reciba una lista de caracteres alfanuméricos como parámetro de entrada. Dicha función debe contar el número de ocurrencias de los caracteres que haya en la lista y debe retornar un diccionario cuyos elementos estén definidos de tal forma que la clave del elemento sea el caracter y el valor del elemento sea el número de ocurrencias de ese caracter en la lista."
   ]
  },
  {
   "cell_type": "code",
   "execution_count": 4,
   "metadata": {},
   "outputs": [],
   "source": [
    "def string(cadena):\n",
    "    cont = 0\n",
    "    dic = {}\n",
    "    chain = []\n",
    "    for i in cadena:\n",
    "        cont = cont+1\n",
    "        if cadena[cont:].count(i) != 0:\n",
    "            if i in dic.keys():\n",
    "                continue\n",
    "            else:\n",
    "                dic.update({i:str(cadena[cont:].count(i)+1)})\n",
    "    return(dic)\n",
    "                \n",
    "               \n",
    "                "
   ]
  },
  {
   "cell_type": "code",
   "execution_count": 5,
   "metadata": {},
   "outputs": [
    {
     "name": "stdout",
     "output_type": "stream",
     "text": [
      "holamundoholahola\n"
     ]
    },
    {
     "data": {
      "text/plain": [
       "{'a': '3', 'h': '3', 'l': '3', 'o': '4'}"
      ]
     },
     "execution_count": 5,
     "metadata": {},
     "output_type": "execute_result"
    }
   ],
   "source": [
    "string(input())"
   ]
  },
  {
   "cell_type": "markdown",
   "metadata": {},
   "source": [
    "## Ejercicio 3\n",
    "\n",
    "Diseñe una función que recibe un string como parámetro de entrada. El string tiene como característica particular que tiene caracteres especiales (ejemplo: @,&,%,#,=,etc...). Su función debe invertir el orden de los caracteres, a excepción de los caracteres especiales, estos deben conservar su posición original.\n",
    "Recomendación: Utilice strings simétricos, es decir, que las cantidades de caracteres \"normales\" entre caracteres especiales sea simétrica"
   ]
  },
  {
   "cell_type": "code",
   "execution_count": 6,
   "metadata": {},
   "outputs": [],
   "source": [
    "def invert(cadena):\n",
    "    inv= list(cadena)\n",
    "    cont=0\n",
    "    especial = ('@','_','!','#','$','%','^','&','*','<','>','?','/','~','|')\n",
    "    #for i in especial:\n",
    "    for j in range(len(cadena)):\n",
    "        if cadena[j] in especial:\n",
    "            inv[j] = cadena[j]\n",
    "            \n",
    "        else:\n",
    "            while(True):\n",
    "                if cadena[len(cadena)-j-1-cont] in especial:\n",
    "                    cont= cont+1\n",
    "                else:\n",
    "                    inv[len(cadena)-j-1-cont] = cadena[j]\n",
    "                    break\n",
    "                \n",
    "        print(inv)     \n",
    "\n",
    "    return inv\n",
    "            \n",
    "        \n",
    "    "
   ]
  },
  {
   "cell_type": "code",
   "execution_count": 7,
   "metadata": {},
   "outputs": [
    {
     "name": "stdout",
     "output_type": "stream",
     "text": [
      "ho*la#\n",
      "['h', 'o', '*', 'l', 'h', '#']\n",
      "['h', 'o', '*', 'o', 'h', '#']\n",
      "['h', 'o', '*', 'o', 'h', '#']\n",
      "['h', 'l', '*', 'o', 'h', '#']\n",
      "['a', 'l', '*', 'o', 'h', '#']\n",
      "['a', 'l', '*', 'o', 'h', '#']\n"
     ]
    },
    {
     "data": {
      "text/plain": [
       "['a', 'l', '*', 'o', 'h', '#']"
      ]
     },
     "execution_count": 7,
     "metadata": {},
     "output_type": "execute_result"
    }
   ],
   "source": [
    "invert(input())"
   ]
  },
  {
   "cell_type": "code",
   "execution_count": null,
   "metadata": {},
   "outputs": [],
   "source": []
  }
 ],
 "metadata": {
  "kernelspec": {
   "display_name": "Python 3",
   "language": "python",
   "name": "python3"
  },
  "language_info": {
   "codemirror_mode": {
    "name": "ipython",
    "version": 3
   },
   "file_extension": ".py",
   "mimetype": "text/x-python",
   "name": "python",
   "nbconvert_exporter": "python",
   "pygments_lexer": "ipython3",
   "version": "3.5.2"
  }
 },
 "nbformat": 4,
 "nbformat_minor": 2
}
