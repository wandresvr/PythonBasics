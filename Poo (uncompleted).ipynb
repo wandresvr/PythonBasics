{
 "cells": [
  {
   "cell_type": "markdown",
   "metadata": {},
   "source": [
    "# <center>Ejercicios clase 2<center>\n",
    "   "
   ]
  },
  {
   "cell_type": "code",
   "execution_count": 29,
   "metadata": {},
   "outputs": [],
   "source": [
    "import requests as r\n",
    "\n",
    "get = r.get('https://google.com')"
   ]
  },
  {
   "cell_type": "code",
   "execution_count": 38,
   "metadata": {},
   "outputs": [
    {
     "name": "stdout",
     "output_type": "stream",
     "text": [
      "{'Date': 'Sat, 02 Mar 2019 16:38:14 GMT', 'Expires': '-1', 'Cache-Control': 'private, max-age=0', 'Content-Type': 'text/html; charset=ISO-8859-1', 'P3P': 'CP=\"This is not a P3P policy! See g.co/p3phelp for more info.\"', 'Content-Encoding': 'gzip', 'Server': 'gws', 'X-XSS-Protection': '1; mode=block', 'X-Frame-Options': 'SAMEORIGIN', 'Set-Cookie': '1P_JAR=2019-03-02-16; expires=Mon, 01-Apr-2019 16:38:14 GMT; path=/; domain=.google.com, NID=178=NtcIACjYlAJKfo-WBEyFCfkvSWVBmvYClPOXT-QqowX3-yRgWZxywKXmg1Hm2cJfWomS_6wtZhYF5I4QogdGwdkOLOQzBQgSQBoVXDOIjthnpnHXL_BN5Ry_svmG-TCwU_zkLK3UNsygAe-U4puVTN5Jcw0fvXuhQxWjZEQUCh8; expires=Sun, 01-Sep-2019 16:38:14 GMT; path=/; domain=.google.com; HttpOnly', 'Alt-Svc': 'quic=\":443\"; ma=2592000; v=\"44,43,39\"', 'Transfer-Encoding': 'chunked'}\n"
     ]
    }
   ],
   "source": [
    "print(get.headers)"
   ]
  },
  {
   "cell_type": "code",
   "execution_count": 39,
   "metadata": {},
   "outputs": [],
   "source": [
    "class requests:\n",
    "\n",
    "    def __init__ (self, direc):\n",
    "        \n",
    "        #self.server = servidor\n",
    "        #self.codification = codificacion\n",
    "        #self.type = tipo\n",
    "        self.dir = direc\n",
    "        \n",
    "    def get(self, direc):\n",
    "        import requests as r\n",
    "        req = r.get(direc)\n",
    "        self.server = req.headers[\"Server\"]\n",
    "        self.codification = req.headers[\"Content-Encoding\"]\n",
    "        #self.type\n",
    "        \n",
    "        "
   ]
  },
  {
   "cell_type": "code",
   "execution_count": null,
   "metadata": {},
   "outputs": [],
   "source": []
  }
 ],
 "metadata": {
  "kernelspec": {
   "display_name": "Python 3",
   "language": "python",
   "name": "python3"
  },
  "language_info": {
   "codemirror_mode": {
    "name": "ipython",
    "version": 3
   },
   "file_extension": ".py",
   "mimetype": "text/x-python",
   "name": "python",
   "nbconvert_exporter": "python",
   "pygments_lexer": "ipython3",
   "version": "3.5.2"
  }
 },
 "nbformat": 4,
 "nbformat_minor": 2
}
