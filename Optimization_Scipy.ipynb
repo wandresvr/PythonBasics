{
 "cells": [
  {
   "cell_type": "markdown",
   "metadata": {},
   "source": [
    "# <center> Ejercicios de Optimización </center>"
   ]
  },
  {
   "cell_type": "markdown",
   "metadata": {},
   "source": [
    "### 1) Minimizar:\n",
    "\n",
    "$$ x1*x4*(x1 + x2 + x3) + x3$$\n",
    "\n",
    "#### Restricciones:\n",
    " \n",
    "#### 1) $$ x1*x2*x3*x4 >= 25$$\n",
    "\n",
    "#### 2) $$x1^2 + x3^2 + x4^2 = 40 $$\n",
    "\n",
    "#### Límites: $$1 <= xi <= 5$$\n",
    "#### Semilla inicial: $$(1, 5, 5, 1)$$"
   ]
  },
  {
   "cell_type": "code",
   "execution_count": 7,
   "metadata": {
    "collapsed": false
   },
   "outputs": [
    {
     "name": "stdout",
     "output_type": "stream",
     "text": [
      "Solución:\n",
      "('X1:', 1.0)\n",
      "('X2:', 4.7429960656369721)\n",
      "('X3:', 3.8211546642483363)\n",
      "('X4:', 1.3794076394141688)\n",
      "('Funcion evaluada en la solucion', 17.01401724556073)\n"
     ]
    }
   ],
   "source": [
    "from scipy.optimize import minimize as mini\n",
    "import numpy as np\n",
    "\n",
    "limiteInferior = 1\n",
    "limiteSuperior = 5\n",
    "semilla = [1, 5, 5, 1]\n",
    "\n",
    "def fun(x):\n",
    "    funcion = x[0]* x[3] * (x[0] + x[1] + x[2]) + x[2]\n",
    "    return (funcion)\n",
    "\n",
    "def restriccion1(x):\n",
    "    return (np.prod(x)- 25)\n",
    "\n",
    "def restriccion2(x):\n",
    "    return (np.sum(np.square(x)) - 40)\n",
    "\n",
    "\n",
    "# Configuraciones para ejecutar algoritmo de optimización\n",
    "restricciones = [{'type': 'ineq', 'fun': restriccion1},\n",
    "                 {'type': 'eq', 'fun': restriccion2}]\n",
    "limites = [(limiteInferior, limiteSuperior) for x in range(4)]\n",
    "\n",
    "# Ejecución de optimización\n",
    "solucion = mini(fun, semilla, method='SLSQP', bounds = limites, constraints = restricciones)\n",
    "\n",
    "print('Solución:')\n",
    "print('X1:', solucion.x[0])\n",
    "print('X2:', solucion.x[1])\n",
    "print('X3:', solucion.x[2])\n",
    "print('X4:', solucion.x[3])\n",
    "print('Funcion evaluada en la solucion', solucion.fun)"
   ]
  },
  {
   "cell_type": "markdown",
   "metadata": {},
   "source": [
    "### 2) Minimizar: $$ f = -2*x1*x2 + 2*x1 - x1^2 - 2*x2^2 $$\n",
    "#### Restricciones:\n",
    "#### 1) $$x1^3 - x2 = 0$$\n",
    "#### 2) $$x2 - (x1 - 1)^4 - 2 >= 0$$\n",
    "#### Límites $$x1: 0.5 <= x1 <= 1.5$$\n",
    "#### $$x2: 1.5 <= x2 <= 2.5$$\n",
    "#### Semilla inicial: $$(0, 2.5)$$"
   ]
  },
  {
   "cell_type": "code",
   "execution_count": 12,
   "metadata": {
    "collapsed": false
   },
   "outputs": [
    {
     "name": "stdout",
     "output_type": "stream",
     "text": [
      "Solución:\n",
      "('X1', 1.2608931426383998)\n",
      "('X2', 2.0046328757906529)\n",
      "('Funcion evaluada en la solucion:', 2.0499154720932884)\n"
     ]
    }
   ],
   "source": [
    "from scipy.optimize import minimize as mini\n",
    "\n",
    "limitesX0 = (0.5, 1.5)\n",
    "limitesX1 = (1.5, 2.5)\n",
    "semilla = [0, 2.5]\n",
    "\n",
    "def fun(x):\n",
    "    funcion = 2*x[0]*x[1] + 2*x[0] - x[0]**2 - 2*(x[1]**2)\n",
    "    return (-funcion)\n",
    "\n",
    "def restriccion1(x):\n",
    "    return (x[0]**3 - x[1])\n",
    "\n",
    "def restriccion2(x):\n",
    "    return (x[1] - (x[0] - 1)**4 - 2)\n",
    "\n",
    "#%% PROGRAMA\n",
    "# Configuraciones para ejecutar algoritmo de optimización\n",
    "restricciones = [{'type': 'eq', 'fun': restriccion1},\n",
    "                 {'type': 'ineq', 'fun': restriccion2}]\n",
    "limites = (limitesX0, limitesX1)\n",
    "\n",
    "# Ejecución de optimización\n",
    "solucion = mini(fun, semilla, method='SLSQP', bounds = limites, constraints = restricciones)\n",
    "\n",
    "print('Solución:')\n",
    "print('X1', solucion.x[0])\n",
    "print('X2', solucion.x[1])\n",
    "print('Funcion evaluada en la solucion:', solucion.fun)\n"
   ]
  },
  {
   "cell_type": "markdown",
   "metadata": {},
   "source": [
    "### 3) Maximizar: $$f = x + y$$\n",
    "#### Restricciones:\n",
    "#### 1) $$50x + 24y <= 2400$$\n",
    "#### 2) $$30x + 33y <= 2100$$\n",
    "#### Límites: $$x, y <= 0$$"
   ]
  },
  {
   "cell_type": "code",
   "execution_count": 13,
   "metadata": {
    "collapsed": false
   },
   "outputs": [
    {
     "name": "stdout",
     "output_type": "stream",
     "text": [
      "Solución:\n",
      "('X:', 30.967741935483872)\n",
      "('Y:', 30.967741935483872)\n",
      "('Funcion evaluada en la solucion:', 66.451612903225808)\n"
     ]
    }
   ],
   "source": [
    "import numpy as np\n",
    "from scipy.optimize import linprog as lp\n",
    "\n",
    "# Coeficientes de Función\n",
    "cFuncionMin = [1, 1] # 1x + 1y\n",
    "\n",
    "# Coeficientes de Restricciones\n",
    "aRestricciones = [[50, 24], [30, 33]] # [50x + 24y], [30x + 33y]\n",
    "bRestricciones = [2400, 2100]\n",
    "\n",
    "# Límites\n",
    "limitesX = (0, None)\n",
    "limitesY = (0, None)\n",
    "\n",
    "cFuncionMax = -np.array(cFuncionMin) # Maximización en lugar de minimización\n",
    "limites = (limitesX, limitesY) \n",
    "\n",
    "solucion = lp(cFuncionMax, A_ub = aRestricciones, b_ub = bRestricciones, bounds = limites)\n",
    "funcionReal = - solucion.fun # Ocurrió una maximización en lugar de una minimización\n",
    "\n",
    "\n",
    "print('Solución:')\n",
    "print('X:',solucion.x[0])\n",
    "print('Y:', solucion.x[0])\n",
    "print('Funcion evaluada en la solucion:', funcionReal)"
   ]
  },
  {
   "cell_type": "markdown",
   "metadata": {},
   "source": [
    "### Maximizar ingreso: $$\\sum (p(t) * x(t))$$\n",
    "\n",
    "#### $$p(t):$$ Precio del producto en el intervalo de tiempo 't'\n",
    "#### $$x(t):$$ Cantidad de producto vendido (demanda) en el intervalo de tiempo 't'\n",
    "\n",
    "### Restricciones:\n",
    "\n",
    "#### 1) El total de productos vendidos no puede superar el inventario total \n",
    "$$(s0) \\sum (x(t)) <= s0$$\n",
    "\n",
    "#### 2) \n",
    "$$x(t) >= 0$$ (cantidad de productos no negativa)\n",
    "#### 3) \n",
    "$$x(t) <= \\frac{A}{B}$$ (valor según modelo para que precios no sean negativos)\n",
    "\n",
    "#### Modelo: Precio en función del tiempo y la demanda\n",
    "#### $$p(x, t) = (A - B * x(t)) * \\frac{D}{D+1}$$\n",
    "\n",
    "A,B y D son parámetros que resultan de la caracterización del comportamiento\n",
    "Del ingreso como producto del precio por la demanda, a lo largo del tiempo.\n",
    "Puede darles el valor que considere conveniente."
   ]
  },
  {
   "cell_type": "code",
   "execution_count": 16,
   "metadata": {
    "collapsed": false
   },
   "outputs": [
    {
     "name": "stdout",
     "output_type": "stream",
     "text": [
      "Arreglo de Tiempo:\n",
      "[ 1  2  3  4  5  6  7  8  9 10]\n",
      "\n",
      "Arreglo Semilla de Demanda:\n",
      "[ 18.29  18.19   6.84   6.17  13.74  12.65  19.62   5.72  10.27   2.55]\n",
      "('Suma Arreglo Semilla Demanda', 114.00663246984689)\n",
      "\n",
      "Demanda Promedio de Productos (por Hora): \n",
      "[ 20.  20.  20.  20.  20.  20.  20.  20.  20.  20.]\n",
      "Demanda Óptima de Productos por Hora: \n",
      "[ 18.29  18.19   6.84   6.17  13.74  12.65  19.62   5.72  10.27   2.55]\n",
      "\n",
      "Precio Estimado de Productos por Hora (para Demanda Óptima):\n",
      "[ 0.  0.  0.  0.  0.  0.  0.  0.  0.  0.]\n",
      "\n",
      "('Ingreso total: $', 0.0)\n"
     ]
    }
   ],
   "source": [
    "# Limitación de número de decimales\n",
    "np.set_printoptions(precision = 2, suppress = True)\n",
    "\n",
    "tiempoTotal = 10 # Total de Horas\n",
    "factorEscala = 10000 # Factor para que el resultado sea de orden 1, facilitando convergencia\n",
    "A = 5000 # Precio máximo\n",
    "B = 100 # Rebaja en precio según la demanda\n",
    "D = 20 # Término para disminución del precio a medida que avanza el tiempo\n",
    "s0 = 200 # Inventario total\n",
    "\n",
    "# Implementación de modelo de precios en función del tiempo y la demanda\n",
    "def precios(x):\n",
    "    # Variables globales a utilizar en modelo\n",
    "    global A, B, D, arregloTiempo\n",
    "    \n",
    "    # Inicializar arreglo precios\n",
    "    listaPrecios = []\n",
    "    \n",
    "    # Ciclo para calcular precio en cada intervalo de tiempo\n",
    "    for (indice, tiempo) in enumerate(arregloTiempo):\n",
    "        precio = (A - B * x[indice]) * (D / (D + tiempo))\n",
    "        # Agregar precio en arreglo sólo si no es negativo\n",
    "        if (precio >= 0): listaPrecios.append(precio)\n",
    "        else: listaPrecios.append(0)\n",
    "    \n",
    "    # Retornar lista de precios como arreglo NumPy\n",
    "    return (np.array(listaPrecios))\n",
    "\n",
    "# Función a optimizar: Ingreso\n",
    "def ingreso(x):\n",
    "    producto = np.dot(precios(x), x) # Ingresos: Precio * Demanda\n",
    "    return (- producto / factorEscala) # Maximizar en lugar de minimizar\n",
    "\n",
    "# Restricciones\n",
    "def restriccionInventario(x):\n",
    "    global s0\n",
    "    return (s0 - np.sum(x))\n",
    "\n",
    "\n",
    "arregloTiempo = np.arange(1, tiempoTotal + 1) # N° Hora\n",
    "\n",
    "# Arreglo Semilla de demanda (Aleatorio: Entre 0 y promedio)\n",
    "promedioDemanda = (s0 // tiempoTotal)\n",
    "x0 = np.random.rand(tiempoTotal) * promedioDemanda\n",
    "xPromedio = np.full(tiempoTotal, promedioDemanda)\n",
    "\n",
    "# Configuraciones para ejecutar algoritmo de optimización\n",
    "# Restricciones\n",
    "restricciones = [{'type': 'ineq', 'fun': restriccionInventario}]\n",
    "# Límites\n",
    "limiteInferior = 0\n",
    "limiteSuperior = A / B\n",
    "limites = [(limiteInferior, limiteSuperior) for i in range(tiempoTotal)]\n",
    "\n",
    "# Ejecución de optimización\n",
    "soluciones = mini(ingreso, x0, method='SLSQP', bounds = limites, constraints = restricciones)\n",
    "ingresoTotal = - ingreso(soluciones.x) * factorEscala\n",
    "\n",
    "# Arreglo de tiempo (N° Hora)\n",
    "print('Arreglo de Tiempo:')\n",
    "print(arregloTiempo)\n",
    "print('')\n",
    "\n",
    "# Arreglo semilla de demanda:\n",
    "print('Arreglo Semilla de Demanda:')\n",
    "print(x0)\n",
    "print('Suma Arreglo Semilla Demanda', np.sum(x0))\n",
    "print('')\n",
    "\n",
    "# Resumen solución\n",
    "# Arreglo de demanda de Productos por hora\n",
    "print('Demanda Promedio de Productos (por Hora): ')\n",
    "print(xPromedio)\n",
    "print('Demanda Óptima de Productos por Hora: ')\n",
    "print(soluciones.x)\n",
    "print('')\n",
    "\n",
    "# Arreglo de precio de productos por hora\n",
    "print('Precio Estimado de Productos por Hora (para Demanda Óptima):')\n",
    "print(precios(soluciones.x))\n",
    "print('')\n",
    "\n",
    "# Ingreso total\n",
    "print('Ingreso total: $', ingresoTotal)"
   ]
  },
  {
   "cell_type": "code",
   "execution_count": null,
   "metadata": {
    "collapsed": true
   },
   "outputs": [],
   "source": []
  }
 ],
 "metadata": {
  "kernelspec": {
   "display_name": "Python 2",
   "language": "python",
   "name": "python2"
  },
  "language_info": {
   "codemirror_mode": {
    "name": "ipython",
    "version": 2
   },
   "file_extension": ".py",
   "mimetype": "text/x-python",
   "name": "python",
   "nbconvert_exporter": "python",
   "pygments_lexer": "ipython2",
   "version": "2.7.11"
  }
 },
 "nbformat": 4,
 "nbformat_minor": 0
}
